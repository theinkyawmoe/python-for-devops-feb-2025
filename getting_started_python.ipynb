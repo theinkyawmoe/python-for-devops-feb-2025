{
  "nbformat": 4,
  "nbformat_minor": 0,
  "metadata": {
    "colab": {
      "provenance": [],
      "toc_visible": true,
      "authorship_tag": "ABX9TyNI+SZv3rX67zEUJ8kPD5tF",
      "include_colab_link": true
    },
    "kernelspec": {
      "name": "python3",
      "display_name": "Python 3"
    },
    "language_info": {
      "name": "python"
    }
  },
  "cells": [
    {
      "cell_type": "markdown",
      "metadata": {
        "id": "view-in-github",
        "colab_type": "text"
      },
      "source": [
        "<a href=\"https://colab.research.google.com/github/theinkyawmoe/python-for-devops-feb-2025/blob/main/getting_started_python.ipynb\" target=\"_parent\"><img src=\"https://colab.research.google.com/assets/colab-badge.svg\" alt=\"Open In Colab\"/></a>"
      ]
    },
    {
      "cell_type": "markdown",
      "source": [
        "## Introduction to Python"
      ],
      "metadata": {
        "id": "3xaDz-GGtWGx"
      }
    },
    {
      "cell_type": "markdown",
      "source": [
        "### Statements of Python"
      ],
      "metadata": {
        "id": "PobjoPyeVpK1"
      }
    },
    {
      "cell_type": "code",
      "source": [
        "print(\"hello world\")"
      ],
      "metadata": {
        "colab": {
          "base_uri": "https://localhost:8080/"
        },
        "id": "OpaNRWwdV9vM",
        "outputId": "5d0ffcda-b2a2-4a78-82c4-a7531a7a90e0"
      },
      "execution_count": null,
      "outputs": [
        {
          "output_type": "stream",
          "name": "stdout",
          "text": [
            "hello world\n"
          ]
        }
      ]
    },
    {
      "cell_type": "code",
      "source": [
        "name = \"bob\"\n",
        "print(f\"hello {name}\")"
      ],
      "metadata": {
        "colab": {
          "base_uri": "https://localhost:8080/"
        },
        "id": "DQahNUFDWJLg",
        "outputId": "612d5b2b-145f-4ef0-8e21-8bd412aee6f8"
      },
      "execution_count": null,
      "outputs": [
        {
          "output_type": "stream",
          "name": "stdout",
          "text": [
            "hello bob\n"
          ]
        }
      ]
    },
    {
      "cell_type": "markdown",
      "source": [
        "### Datastructure: Lists and Dictionaries"
      ],
      "metadata": {
        "id": "qqyXwrcSWcEf"
      }
    },
    {
      "cell_type": "markdown",
      "source": [
        "#### List"
      ],
      "metadata": {
        "id": "1RI_cJbAbGLy"
      }
    },
    {
      "cell_type": "code",
      "source": [
        "fruits = [\"apple\",\"pears\",\"stawberry\"]\n",
        "type(fruits)"
      ],
      "metadata": {
        "colab": {
          "base_uri": "https://localhost:8080/"
        },
        "id": "pRci-5cZWp2N",
        "outputId": "ed5bd572-8b49-4b25-f157-c28ef4180a89"
      },
      "execution_count": null,
      "outputs": [
        {
          "output_type": "execute_result",
          "data": {
            "text/plain": [
              "list"
            ]
          },
          "metadata": {},
          "execution_count": 13
        }
      ]
    },
    {
      "cell_type": "code",
      "source": [
        "fruits[0]"
      ],
      "metadata": {
        "colab": {
          "base_uri": "https://localhost:8080/",
          "height": 36
        },
        "id": "fucHYeNbaLQz",
        "outputId": "95182af0-5a0f-4c73-e88b-d5c9b6d1475f"
      },
      "execution_count": null,
      "outputs": [
        {
          "output_type": "execute_result",
          "data": {
            "text/plain": [
              "'apple'"
            ],
            "application/vnd.google.colaboratory.intrinsic+json": {
              "type": "string"
            }
          },
          "metadata": {},
          "execution_count": 14
        }
      ]
    },
    {
      "cell_type": "code",
      "source": [
        "fruits[:-1]"
      ],
      "metadata": {
        "colab": {
          "base_uri": "https://localhost:8080/"
        },
        "id": "0DwawCfCaRSN",
        "outputId": "8f33a6b0-7b81-4ab3-c51d-bf39d1c2b034"
      },
      "execution_count": null,
      "outputs": [
        {
          "output_type": "execute_result",
          "data": {
            "text/plain": [
              "['apple', 'pears']"
            ]
          },
          "metadata": {},
          "execution_count": 15
        }
      ]
    },
    {
      "cell_type": "code",
      "source": [
        "for my_fruit in fruits:\n",
        "    print(f\"this is my favourite fruit: {my_fruit}\")"
      ],
      "metadata": {
        "colab": {
          "base_uri": "https://localhost:8080/"
        },
        "id": "cBxYHbNHakqQ",
        "outputId": "1c658c07-4a91-4203-9230-078b7ed0e527"
      },
      "execution_count": null,
      "outputs": [
        {
          "output_type": "stream",
          "name": "stdout",
          "text": [
            "this is my favourite fruit: apple\n",
            "this is my favourite fruit: pears\n",
            "this is my favourite fruit: stawberry\n"
          ]
        }
      ]
    },
    {
      "cell_type": "markdown",
      "source": [
        "#### Dictionary"
      ],
      "metadata": {
        "id": "Rz_RUqdabNyj"
      }
    },
    {
      "cell_type": "code",
      "source": [
        "meal = {\"breakfast\":\"black coffee\",\"Lunch\":\"salad\",\"Dinner\":\"rice and beans\"}"
      ],
      "metadata": {
        "colab": {
          "base_uri": "https://localhost:8080/"
        },
        "id": "LyY1B-qubZfL",
        "outputId": "d9984af7-0683-4709-b5a3-1581d4c1fd8b"
      },
      "execution_count": null,
      "outputs": [
        {
          "output_type": "execute_result",
          "data": {
            "text/plain": [
              "dict_keys(['breakfast', 'Lunch', 'Dinner'])"
            ]
          },
          "metadata": {},
          "execution_count": 19
        }
      ]
    },
    {
      "cell_type": "code",
      "source": [
        "meal.keys()"
      ],
      "metadata": {
        "colab": {
          "base_uri": "https://localhost:8080/"
        },
        "id": "DqwJiHYVcIQ6",
        "outputId": "7588ed72-f6f3-4441-ef2c-71d987bed5b9"
      },
      "execution_count": null,
      "outputs": [
        {
          "output_type": "execute_result",
          "data": {
            "text/plain": [
              "dict_keys(['breakfast', 'Lunch', 'Dinner'])"
            ]
          },
          "metadata": {},
          "execution_count": 20
        }
      ]
    },
    {
      "cell_type": "code",
      "source": [
        "meal.values()"
      ],
      "metadata": {
        "colab": {
          "base_uri": "https://localhost:8080/"
        },
        "id": "DgsNmtzXciBM",
        "outputId": "76fa781e-cb8e-4c4a-ab17-473430d27936"
      },
      "execution_count": null,
      "outputs": [
        {
          "output_type": "execute_result",
          "data": {
            "text/plain": [
              "dict_values(['black coffee', 'salad', 'rice and beans'])"
            ]
          },
          "metadata": {},
          "execution_count": 21
        }
      ]
    },
    {
      "cell_type": "code",
      "source": [
        "for meal_name, meal_item in meal.items():\n",
        "    print(f\"This meal {meal_name} is when I like to consume {meal_item}\")"
      ],
      "metadata": {
        "colab": {
          "base_uri": "https://localhost:8080/"
        },
        "id": "44k_tG0bcr0L",
        "outputId": "84380165-a0b4-49f7-9098-4336aa24ef28"
      },
      "execution_count": null,
      "outputs": [
        {
          "output_type": "stream",
          "name": "stdout",
          "text": [
            "This meal breakfast is when I like to consume black coffee\n",
            "This meal Lunch is when I like to consume salad\n",
            "This meal Dinner is when I like to consume rice and beans\n"
          ]
        }
      ]
    }
  ]
}